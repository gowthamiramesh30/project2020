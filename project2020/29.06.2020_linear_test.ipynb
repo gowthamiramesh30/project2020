{
 "cells": [
  {
   "cell_type": "markdown",
   "metadata": {},
   "source": [
    "**Submitted by: Group G4**->(Umesha B K,Raja Ram Chaudhary,Gowthami R)<br>\n",
    "**2020-06-30**"
   ]
  },
  {
   "cell_type": "markdown",
   "metadata": {},
   "source": [
    "![](airindia.png)\n",
    "<h1 style=\"text-align:center;\"> Air Fare prediction Analysis</h1>"
   ]
  },
  {
   "cell_type": "markdown",
   "metadata": {},
   "source": [
    " Import necessaries library"
   ]
  },
  {
   "cell_type": "code",
   "execution_count": 1,
   "metadata": {},
   "outputs": [],
   "source": [
    "import numpy as np\n",
    "import pandas as pd\n",
    "import matplotlib.pyplot as plt\n",
    "%matplotlib inline"
   ]
  },
  {
   "cell_type": "markdown",
   "metadata": {},
   "source": [
    "Read given data by help of pandas function "
   ]
  },
  {
   "cell_type": "code",
   "execution_count": 2,
   "metadata": {},
   "outputs": [],
   "source": [
    "data = pd.read_csv('C:\\\\Users\\\\Vinayaka\\\\Desktop\\\\project2020\\\\air_fair.csv')"
   ]
  },
  {
   "cell_type": "markdown",
   "metadata": {},
   "source": [
    "## Exploratory Data Analysis (EDA)<a id=\"3\"></a>"
   ]
  },
  {
   "cell_type": "markdown",
   "metadata": {},
   "source": [
    "Show top 5 records"
   ]
  },
  {
   "cell_type": "code",
   "execution_count": 3,
   "metadata": {},
   "outputs": [
    {
     "data": {
      "text/html": [
       "<div>\n",
       "<style scoped>\n",
       "    .dataframe tbody tr th:only-of-type {\n",
       "        vertical-align: middle;\n",
       "    }\n",
       "\n",
       "    .dataframe tbody tr th {\n",
       "        vertical-align: top;\n",
       "    }\n",
       "\n",
       "    .dataframe thead th {\n",
       "        text-align: right;\n",
       "    }\n",
       "</style>\n",
       "<table border=\"1\" class=\"dataframe\">\n",
       "  <thead>\n",
       "    <tr style=\"text-align: right;\">\n",
       "      <th></th>\n",
       "      <th>InvoiceDate</th>\n",
       "      <th>NetFare</th>\n",
       "      <th>ProductType</th>\n",
       "      <th>ItineraryType</th>\n",
       "    </tr>\n",
       "  </thead>\n",
       "  <tbody>\n",
       "    <tr>\n",
       "      <th>0</th>\n",
       "      <td>1/12/18 11:43</td>\n",
       "      <td>2160.00</td>\n",
       "      <td>Other Product</td>\n",
       "      <td>Domestic</td>\n",
       "    </tr>\n",
       "    <tr>\n",
       "      <th>1</th>\n",
       "      <td>1/12/18 11:43</td>\n",
       "      <td>0.49</td>\n",
       "      <td>Other Product</td>\n",
       "      <td>Domestic</td>\n",
       "    </tr>\n",
       "    <tr>\n",
       "      <th>2</th>\n",
       "      <td>1/12/18 13:01</td>\n",
       "      <td>6550.00</td>\n",
       "      <td>Air</td>\n",
       "      <td>Domestic</td>\n",
       "    </tr>\n",
       "    <tr>\n",
       "      <th>3</th>\n",
       "      <td>1/12/18 13:10</td>\n",
       "      <td>6550.00</td>\n",
       "      <td>Air</td>\n",
       "      <td>Domestic</td>\n",
       "    </tr>\n",
       "    <tr>\n",
       "      <th>4</th>\n",
       "      <td>30/11/2018 14:30</td>\n",
       "      <td>5497.00</td>\n",
       "      <td>Air</td>\n",
       "      <td>Domestic</td>\n",
       "    </tr>\n",
       "  </tbody>\n",
       "</table>\n",
       "</div>"
      ],
      "text/plain": [
       "        InvoiceDate  NetFare    ProductType ItineraryType\n",
       "0     1/12/18 11:43  2160.00  Other Product      Domestic\n",
       "1     1/12/18 11:43     0.49  Other Product      Domestic\n",
       "2     1/12/18 13:01  6550.00            Air      Domestic\n",
       "3     1/12/18 13:10  6550.00            Air      Domestic\n",
       "4  30/11/2018 14:30  5497.00            Air      Domestic"
      ]
     },
     "execution_count": 3,
     "metadata": {},
     "output_type": "execute_result"
    }
   ],
   "source": [
    "data.head()"
   ]
  },
  {
   "cell_type": "markdown",
   "metadata": {},
   "source": [
    "InvoiceDate converted int datetime format"
   ]
  },
  {
   "cell_type": "code",
   "execution_count": 4,
   "metadata": {},
   "outputs": [],
   "source": [
    "data['InvoiceDate']=pd.to_datetime(data['InvoiceDate'])"
   ]
  },
  {
   "cell_type": "markdown",
   "metadata": {},
   "source": [
    "Extraction of Date, Year, Month, Day, Hour & Minute from InvoiceDate columns"
   ]
  },
  {
   "cell_type": "code",
   "execution_count": 5,
   "metadata": {},
   "outputs": [
    {
     "data": {
      "text/html": [
       "<div>\n",
       "<style scoped>\n",
       "    .dataframe tbody tr th:only-of-type {\n",
       "        vertical-align: middle;\n",
       "    }\n",
       "\n",
       "    .dataframe tbody tr th {\n",
       "        vertical-align: top;\n",
       "    }\n",
       "\n",
       "    .dataframe thead th {\n",
       "        text-align: right;\n",
       "    }\n",
       "</style>\n",
       "<table border=\"1\" class=\"dataframe\">\n",
       "  <thead>\n",
       "    <tr style=\"text-align: right;\">\n",
       "      <th></th>\n",
       "      <th>InvoiceDate</th>\n",
       "      <th>NetFare</th>\n",
       "      <th>ProductType</th>\n",
       "      <th>ItineraryType</th>\n",
       "      <th>Date</th>\n",
       "      <th>Year</th>\n",
       "      <th>Month</th>\n",
       "      <th>Day</th>\n",
       "      <th>Hour</th>\n",
       "      <th>Minute</th>\n",
       "    </tr>\n",
       "  </thead>\n",
       "  <tbody>\n",
       "    <tr>\n",
       "      <th>0</th>\n",
       "      <td>2018-01-12 11:43:00</td>\n",
       "      <td>2160.00</td>\n",
       "      <td>Other Product</td>\n",
       "      <td>Domestic</td>\n",
       "      <td>2018-01-12</td>\n",
       "      <td>2018.0</td>\n",
       "      <td>1.0</td>\n",
       "      <td>12.0</td>\n",
       "      <td>11.0</td>\n",
       "      <td>43.0</td>\n",
       "    </tr>\n",
       "    <tr>\n",
       "      <th>1</th>\n",
       "      <td>2018-01-12 11:43:00</td>\n",
       "      <td>0.49</td>\n",
       "      <td>Other Product</td>\n",
       "      <td>Domestic</td>\n",
       "      <td>2018-01-12</td>\n",
       "      <td>2018.0</td>\n",
       "      <td>1.0</td>\n",
       "      <td>12.0</td>\n",
       "      <td>11.0</td>\n",
       "      <td>43.0</td>\n",
       "    </tr>\n",
       "    <tr>\n",
       "      <th>2</th>\n",
       "      <td>2018-01-12 13:01:00</td>\n",
       "      <td>6550.00</td>\n",
       "      <td>Air</td>\n",
       "      <td>Domestic</td>\n",
       "      <td>2018-01-12</td>\n",
       "      <td>2018.0</td>\n",
       "      <td>1.0</td>\n",
       "      <td>12.0</td>\n",
       "      <td>13.0</td>\n",
       "      <td>1.0</td>\n",
       "    </tr>\n",
       "    <tr>\n",
       "      <th>3</th>\n",
       "      <td>2018-01-12 13:10:00</td>\n",
       "      <td>6550.00</td>\n",
       "      <td>Air</td>\n",
       "      <td>Domestic</td>\n",
       "      <td>2018-01-12</td>\n",
       "      <td>2018.0</td>\n",
       "      <td>1.0</td>\n",
       "      <td>12.0</td>\n",
       "      <td>13.0</td>\n",
       "      <td>10.0</td>\n",
       "    </tr>\n",
       "    <tr>\n",
       "      <th>4</th>\n",
       "      <td>2018-11-30 14:30:00</td>\n",
       "      <td>5497.00</td>\n",
       "      <td>Air</td>\n",
       "      <td>Domestic</td>\n",
       "      <td>2018-11-30</td>\n",
       "      <td>2018.0</td>\n",
       "      <td>11.0</td>\n",
       "      <td>30.0</td>\n",
       "      <td>14.0</td>\n",
       "      <td>30.0</td>\n",
       "    </tr>\n",
       "    <tr>\n",
       "      <th>...</th>\n",
       "      <td>...</td>\n",
       "      <td>...</td>\n",
       "      <td>...</td>\n",
       "      <td>...</td>\n",
       "      <td>...</td>\n",
       "      <td>...</td>\n",
       "      <td>...</td>\n",
       "      <td>...</td>\n",
       "      <td>...</td>\n",
       "      <td>...</td>\n",
       "    </tr>\n",
       "    <tr>\n",
       "      <th>278461</th>\n",
       "      <td>2019-10-06 20:45:00</td>\n",
       "      <td>0.00</td>\n",
       "      <td>Air</td>\n",
       "      <td>Domestic</td>\n",
       "      <td>2019-10-06</td>\n",
       "      <td>2019.0</td>\n",
       "      <td>10.0</td>\n",
       "      <td>6.0</td>\n",
       "      <td>20.0</td>\n",
       "      <td>45.0</td>\n",
       "    </tr>\n",
       "    <tr>\n",
       "      <th>278462</th>\n",
       "      <td>2019-10-06 21:39:00</td>\n",
       "      <td>9073.00</td>\n",
       "      <td>Air</td>\n",
       "      <td>Domestic</td>\n",
       "      <td>2019-10-06</td>\n",
       "      <td>2019.0</td>\n",
       "      <td>10.0</td>\n",
       "      <td>6.0</td>\n",
       "      <td>21.0</td>\n",
       "      <td>39.0</td>\n",
       "    </tr>\n",
       "    <tr>\n",
       "      <th>278463</th>\n",
       "      <td>2019-10-06 22:18:00</td>\n",
       "      <td>2367.00</td>\n",
       "      <td>Air</td>\n",
       "      <td>Domestic</td>\n",
       "      <td>2019-10-06</td>\n",
       "      <td>2019.0</td>\n",
       "      <td>10.0</td>\n",
       "      <td>6.0</td>\n",
       "      <td>22.0</td>\n",
       "      <td>18.0</td>\n",
       "    </tr>\n",
       "    <tr>\n",
       "      <th>278464</th>\n",
       "      <td>2019-10-06 22:30:00</td>\n",
       "      <td>6572.00</td>\n",
       "      <td>Air</td>\n",
       "      <td>Domestic</td>\n",
       "      <td>2019-10-06</td>\n",
       "      <td>2019.0</td>\n",
       "      <td>10.0</td>\n",
       "      <td>6.0</td>\n",
       "      <td>22.0</td>\n",
       "      <td>30.0</td>\n",
       "    </tr>\n",
       "    <tr>\n",
       "      <th>278465</th>\n",
       "      <td>2019-10-06 22:30:00</td>\n",
       "      <td>5118.00</td>\n",
       "      <td>Air</td>\n",
       "      <td>Domestic</td>\n",
       "      <td>2019-10-06</td>\n",
       "      <td>2019.0</td>\n",
       "      <td>10.0</td>\n",
       "      <td>6.0</td>\n",
       "      <td>22.0</td>\n",
       "      <td>30.0</td>\n",
       "    </tr>\n",
       "  </tbody>\n",
       "</table>\n",
       "<p>278466 rows × 10 columns</p>\n",
       "</div>"
      ],
      "text/plain": [
       "               InvoiceDate  NetFare    ProductType ItineraryType        Date  \\\n",
       "0      2018-01-12 11:43:00  2160.00  Other Product      Domestic  2018-01-12   \n",
       "1      2018-01-12 11:43:00     0.49  Other Product      Domestic  2018-01-12   \n",
       "2      2018-01-12 13:01:00  6550.00            Air      Domestic  2018-01-12   \n",
       "3      2018-01-12 13:10:00  6550.00            Air      Domestic  2018-01-12   \n",
       "4      2018-11-30 14:30:00  5497.00            Air      Domestic  2018-11-30   \n",
       "...                    ...      ...            ...           ...         ...   \n",
       "278461 2019-10-06 20:45:00     0.00            Air      Domestic  2019-10-06   \n",
       "278462 2019-10-06 21:39:00  9073.00            Air      Domestic  2019-10-06   \n",
       "278463 2019-10-06 22:18:00  2367.00            Air      Domestic  2019-10-06   \n",
       "278464 2019-10-06 22:30:00  6572.00            Air      Domestic  2019-10-06   \n",
       "278465 2019-10-06 22:30:00  5118.00            Air      Domestic  2019-10-06   \n",
       "\n",
       "          Year  Month   Day  Hour  Minute  \n",
       "0       2018.0    1.0  12.0  11.0    43.0  \n",
       "1       2018.0    1.0  12.0  11.0    43.0  \n",
       "2       2018.0    1.0  12.0  13.0     1.0  \n",
       "3       2018.0    1.0  12.0  13.0    10.0  \n",
       "4       2018.0   11.0  30.0  14.0    30.0  \n",
       "...        ...    ...   ...   ...     ...  \n",
       "278461  2019.0   10.0   6.0  20.0    45.0  \n",
       "278462  2019.0   10.0   6.0  21.0    39.0  \n",
       "278463  2019.0   10.0   6.0  22.0    18.0  \n",
       "278464  2019.0   10.0   6.0  22.0    30.0  \n",
       "278465  2019.0   10.0   6.0  22.0    30.0  \n",
       "\n",
       "[278466 rows x 10 columns]"
      ]
     },
     "execution_count": 5,
     "metadata": {},
     "output_type": "execute_result"
    }
   ],
   "source": [
    "data['Date']=data['InvoiceDate'].dt.date\n",
    "data['Year']=data['InvoiceDate'].dt.year\n",
    "data['Month']=data['InvoiceDate'].dt.month\n",
    "data['Day']=data['InvoiceDate'].dt.day\n",
    "data['Hour']=data['InvoiceDate'].dt.hour\n",
    "data['Minute']=data['InvoiceDate'].dt.minute\n",
    "data"
   ]
  },
  {
   "cell_type": "markdown",
   "metadata": {},
   "source": [
    "Drop InvoiceDate column after formation of Date, Year, Month, Day, Date, Hour & Minute from InvoiceDate columns"
   ]
  },
  {
   "cell_type": "code",
   "execution_count": 6,
   "metadata": {},
   "outputs": [],
   "source": [
    "data.drop([\"InvoiceDate\"], axis=1, inplace=True)"
   ]
  },
  {
   "cell_type": "markdown",
   "metadata": {},
   "source": [
    "Rearrange of columns as our choices"
   ]
  },
  {
   "cell_type": "code",
   "execution_count": 7,
   "metadata": {},
   "outputs": [
    {
     "data": {
      "text/html": [
       "<div>\n",
       "<style scoped>\n",
       "    .dataframe tbody tr th:only-of-type {\n",
       "        vertical-align: middle;\n",
       "    }\n",
       "\n",
       "    .dataframe tbody tr th {\n",
       "        vertical-align: top;\n",
       "    }\n",
       "\n",
       "    .dataframe thead th {\n",
       "        text-align: right;\n",
       "    }\n",
       "</style>\n",
       "<table border=\"1\" class=\"dataframe\">\n",
       "  <thead>\n",
       "    <tr style=\"text-align: right;\">\n",
       "      <th></th>\n",
       "      <th>Date</th>\n",
       "      <th>Year</th>\n",
       "      <th>Month</th>\n",
       "      <th>Day</th>\n",
       "      <th>Hour</th>\n",
       "      <th>Minute</th>\n",
       "      <th>ProductType</th>\n",
       "      <th>ItineraryType</th>\n",
       "      <th>NetFare</th>\n",
       "    </tr>\n",
       "  </thead>\n",
       "  <tbody>\n",
       "    <tr>\n",
       "      <th>0</th>\n",
       "      <td>2018-01-12</td>\n",
       "      <td>2018.0</td>\n",
       "      <td>1.0</td>\n",
       "      <td>12.0</td>\n",
       "      <td>11.0</td>\n",
       "      <td>43.0</td>\n",
       "      <td>Other Product</td>\n",
       "      <td>Domestic</td>\n",
       "      <td>2160.00</td>\n",
       "    </tr>\n",
       "    <tr>\n",
       "      <th>1</th>\n",
       "      <td>2018-01-12</td>\n",
       "      <td>2018.0</td>\n",
       "      <td>1.0</td>\n",
       "      <td>12.0</td>\n",
       "      <td>11.0</td>\n",
       "      <td>43.0</td>\n",
       "      <td>Other Product</td>\n",
       "      <td>Domestic</td>\n",
       "      <td>0.49</td>\n",
       "    </tr>\n",
       "    <tr>\n",
       "      <th>2</th>\n",
       "      <td>2018-01-12</td>\n",
       "      <td>2018.0</td>\n",
       "      <td>1.0</td>\n",
       "      <td>12.0</td>\n",
       "      <td>13.0</td>\n",
       "      <td>1.0</td>\n",
       "      <td>Air</td>\n",
       "      <td>Domestic</td>\n",
       "      <td>6550.00</td>\n",
       "    </tr>\n",
       "    <tr>\n",
       "      <th>3</th>\n",
       "      <td>2018-01-12</td>\n",
       "      <td>2018.0</td>\n",
       "      <td>1.0</td>\n",
       "      <td>12.0</td>\n",
       "      <td>13.0</td>\n",
       "      <td>10.0</td>\n",
       "      <td>Air</td>\n",
       "      <td>Domestic</td>\n",
       "      <td>6550.00</td>\n",
       "    </tr>\n",
       "    <tr>\n",
       "      <th>4</th>\n",
       "      <td>2018-11-30</td>\n",
       "      <td>2018.0</td>\n",
       "      <td>11.0</td>\n",
       "      <td>30.0</td>\n",
       "      <td>14.0</td>\n",
       "      <td>30.0</td>\n",
       "      <td>Air</td>\n",
       "      <td>Domestic</td>\n",
       "      <td>5497.00</td>\n",
       "    </tr>\n",
       "  </tbody>\n",
       "</table>\n",
       "</div>"
      ],
      "text/plain": [
       "         Date    Year  Month   Day  Hour  Minute    ProductType ItineraryType  \\\n",
       "0  2018-01-12  2018.0    1.0  12.0  11.0    43.0  Other Product      Domestic   \n",
       "1  2018-01-12  2018.0    1.0  12.0  11.0    43.0  Other Product      Domestic   \n",
       "2  2018-01-12  2018.0    1.0  12.0  13.0     1.0            Air      Domestic   \n",
       "3  2018-01-12  2018.0    1.0  12.0  13.0    10.0            Air      Domestic   \n",
       "4  2018-11-30  2018.0   11.0  30.0  14.0    30.0            Air      Domestic   \n",
       "\n",
       "   NetFare  \n",
       "0  2160.00  \n",
       "1     0.49  \n",
       "2  6550.00  \n",
       "3  6550.00  \n",
       "4  5497.00  "
      ]
     },
     "execution_count": 7,
     "metadata": {},
     "output_type": "execute_result"
    }
   ],
   "source": [
    "data = data[['Date','Year', 'Month','Day','Hour','Minute','ProductType','ItineraryType','NetFare']]\n",
    "data.head()"
   ]
  },
  {
   "cell_type": "markdown",
   "metadata": {},
   "source": [
    "Converting data types on suitable format as mention below"
   ]
  },
  {
   "cell_type": "code",
   "execution_count": 8,
   "metadata": {},
   "outputs": [],
   "source": [
    "#data['Year']=pd.to_datetime(data['float'])\n",
    "data['Year']=data['Year'].astype('float')\n",
    "data['Month']=data['Month'].astype('float')\n",
    "data['Day']=data['Day'].astype('float')\n",
    "data['Hour']=data['Hour'].astype('float')\n",
    "data['Minute']=data['Minute'].astype('float')"
   ]
  },
  {
   "cell_type": "markdown",
   "metadata": {},
   "source": [
    "Parse strings to datetime type "
   ]
  },
  {
   "cell_type": "code",
   "execution_count": 9,
   "metadata": {},
   "outputs": [],
   "source": [
    "data['Date'] = pd.to_datetime(data.Date, infer_datetime_format=True)\n",
    "df=data.set_index(['Date'])"
   ]
  },
  {
   "cell_type": "markdown",
   "metadata": {},
   "source": [
    "Data index sorted"
   ]
  },
  {
   "cell_type": "code",
   "execution_count": 10,
   "metadata": {},
   "outputs": [
    {
     "data": {
      "text/html": [
       "<div>\n",
       "<style scoped>\n",
       "    .dataframe tbody tr th:only-of-type {\n",
       "        vertical-align: middle;\n",
       "    }\n",
       "\n",
       "    .dataframe tbody tr th {\n",
       "        vertical-align: top;\n",
       "    }\n",
       "\n",
       "    .dataframe thead th {\n",
       "        text-align: right;\n",
       "    }\n",
       "</style>\n",
       "<table border=\"1\" class=\"dataframe\">\n",
       "  <thead>\n",
       "    <tr style=\"text-align: right;\">\n",
       "      <th></th>\n",
       "      <th>Year</th>\n",
       "      <th>Month</th>\n",
       "      <th>Day</th>\n",
       "      <th>Hour</th>\n",
       "      <th>Minute</th>\n",
       "      <th>ProductType</th>\n",
       "      <th>ItineraryType</th>\n",
       "      <th>NetFare</th>\n",
       "    </tr>\n",
       "    <tr>\n",
       "      <th>Date</th>\n",
       "      <th></th>\n",
       "      <th></th>\n",
       "      <th></th>\n",
       "      <th></th>\n",
       "      <th></th>\n",
       "      <th></th>\n",
       "      <th></th>\n",
       "      <th></th>\n",
       "    </tr>\n",
       "  </thead>\n",
       "  <tbody>\n",
       "    <tr>\n",
       "      <th>2018-01-04</th>\n",
       "      <td>2018.0</td>\n",
       "      <td>1.0</td>\n",
       "      <td>4.0</td>\n",
       "      <td>8.0</td>\n",
       "      <td>26.0</td>\n",
       "      <td>Air</td>\n",
       "      <td>Domestic</td>\n",
       "      <td>8222.0</td>\n",
       "    </tr>\n",
       "    <tr>\n",
       "      <th>2018-01-04</th>\n",
       "      <td>2018.0</td>\n",
       "      <td>1.0</td>\n",
       "      <td>4.0</td>\n",
       "      <td>9.0</td>\n",
       "      <td>17.0</td>\n",
       "      <td>Air</td>\n",
       "      <td>Domestic</td>\n",
       "      <td>3418.0</td>\n",
       "    </tr>\n",
       "    <tr>\n",
       "      <th>2018-01-04</th>\n",
       "      <td>2018.0</td>\n",
       "      <td>1.0</td>\n",
       "      <td>4.0</td>\n",
       "      <td>22.0</td>\n",
       "      <td>38.0</td>\n",
       "      <td>Air</td>\n",
       "      <td>Domestic</td>\n",
       "      <td>6261.0</td>\n",
       "    </tr>\n",
       "    <tr>\n",
       "      <th>2018-01-04</th>\n",
       "      <td>2018.0</td>\n",
       "      <td>1.0</td>\n",
       "      <td>4.0</td>\n",
       "      <td>21.0</td>\n",
       "      <td>12.0</td>\n",
       "      <td>Air</td>\n",
       "      <td>Domestic</td>\n",
       "      <td>3473.0</td>\n",
       "    </tr>\n",
       "    <tr>\n",
       "      <th>2018-01-04</th>\n",
       "      <td>2018.0</td>\n",
       "      <td>1.0</td>\n",
       "      <td>4.0</td>\n",
       "      <td>20.0</td>\n",
       "      <td>59.0</td>\n",
       "      <td>Air</td>\n",
       "      <td>Domestic</td>\n",
       "      <td>5011.0</td>\n",
       "    </tr>\n",
       "  </tbody>\n",
       "</table>\n",
       "</div>"
      ],
      "text/plain": [
       "              Year  Month  Day  Hour  Minute ProductType ItineraryType  \\\n",
       "Date                                                                     \n",
       "2018-01-04  2018.0    1.0  4.0   8.0    26.0         Air      Domestic   \n",
       "2018-01-04  2018.0    1.0  4.0   9.0    17.0         Air      Domestic   \n",
       "2018-01-04  2018.0    1.0  4.0  22.0    38.0         Air      Domestic   \n",
       "2018-01-04  2018.0    1.0  4.0  21.0    12.0         Air      Domestic   \n",
       "2018-01-04  2018.0    1.0  4.0  20.0    59.0         Air      Domestic   \n",
       "\n",
       "            NetFare  \n",
       "Date                 \n",
       "2018-01-04   8222.0  \n",
       "2018-01-04   3418.0  \n",
       "2018-01-04   6261.0  \n",
       "2018-01-04   3473.0  \n",
       "2018-01-04   5011.0  "
      ]
     },
     "execution_count": 10,
     "metadata": {},
     "output_type": "execute_result"
    }
   ],
   "source": [
    "df.sort_values(by='Date').head()"
   ]
  },
  {
   "cell_type": "markdown",
   "metadata": {},
   "source": [
    "## Data Preparation <a id=\"4\"></a>"
   ]
  },
  {
   "cell_type": "markdown",
   "metadata": {},
   "source": [
    "<h4>Evaluating for Missing Data</h4>\n",
    "There are two methods to detect missing data:\n",
    "<ol>\n",
    " <li><b>.isnull()</b></li>\n",
    " <li><b>.notnull()</b></li>\n",
    "</ol>   "
   ]
  },
  {
   "cell_type": "markdown",
   "metadata": {},
   "source": [
    "Find missing value by Boolean method:\n",
    "**\"True\"** stands for missing value, while **\"False\"** stands for not missing value."
   ]
  },
  {
   "cell_type": "code",
   "execution_count": 11,
   "metadata": {},
   "outputs": [
    {
     "data": {
      "text/html": [
       "<div>\n",
       "<style scoped>\n",
       "    .dataframe tbody tr th:only-of-type {\n",
       "        vertical-align: middle;\n",
       "    }\n",
       "\n",
       "    .dataframe tbody tr th {\n",
       "        vertical-align: top;\n",
       "    }\n",
       "\n",
       "    .dataframe thead th {\n",
       "        text-align: right;\n",
       "    }\n",
       "</style>\n",
       "<table border=\"1\" class=\"dataframe\">\n",
       "  <thead>\n",
       "    <tr style=\"text-align: right;\">\n",
       "      <th></th>\n",
       "      <th>Year</th>\n",
       "      <th>Month</th>\n",
       "      <th>Day</th>\n",
       "      <th>Hour</th>\n",
       "      <th>Minute</th>\n",
       "      <th>ProductType</th>\n",
       "      <th>ItineraryType</th>\n",
       "      <th>NetFare</th>\n",
       "    </tr>\n",
       "    <tr>\n",
       "      <th>Date</th>\n",
       "      <th></th>\n",
       "      <th></th>\n",
       "      <th></th>\n",
       "      <th></th>\n",
       "      <th></th>\n",
       "      <th></th>\n",
       "      <th></th>\n",
       "      <th></th>\n",
       "    </tr>\n",
       "  </thead>\n",
       "  <tbody>\n",
       "    <tr>\n",
       "      <th>2018-01-12</th>\n",
       "      <td>False</td>\n",
       "      <td>False</td>\n",
       "      <td>False</td>\n",
       "      <td>False</td>\n",
       "      <td>False</td>\n",
       "      <td>False</td>\n",
       "      <td>False</td>\n",
       "      <td>False</td>\n",
       "    </tr>\n",
       "    <tr>\n",
       "      <th>2018-01-12</th>\n",
       "      <td>False</td>\n",
       "      <td>False</td>\n",
       "      <td>False</td>\n",
       "      <td>False</td>\n",
       "      <td>False</td>\n",
       "      <td>False</td>\n",
       "      <td>False</td>\n",
       "      <td>False</td>\n",
       "    </tr>\n",
       "    <tr>\n",
       "      <th>2018-01-12</th>\n",
       "      <td>False</td>\n",
       "      <td>False</td>\n",
       "      <td>False</td>\n",
       "      <td>False</td>\n",
       "      <td>False</td>\n",
       "      <td>False</td>\n",
       "      <td>False</td>\n",
       "      <td>False</td>\n",
       "    </tr>\n",
       "    <tr>\n",
       "      <th>2018-01-12</th>\n",
       "      <td>False</td>\n",
       "      <td>False</td>\n",
       "      <td>False</td>\n",
       "      <td>False</td>\n",
       "      <td>False</td>\n",
       "      <td>False</td>\n",
       "      <td>False</td>\n",
       "      <td>False</td>\n",
       "    </tr>\n",
       "    <tr>\n",
       "      <th>2018-11-30</th>\n",
       "      <td>False</td>\n",
       "      <td>False</td>\n",
       "      <td>False</td>\n",
       "      <td>False</td>\n",
       "      <td>False</td>\n",
       "      <td>False</td>\n",
       "      <td>False</td>\n",
       "      <td>False</td>\n",
       "    </tr>\n",
       "    <tr>\n",
       "      <th>...</th>\n",
       "      <td>...</td>\n",
       "      <td>...</td>\n",
       "      <td>...</td>\n",
       "      <td>...</td>\n",
       "      <td>...</td>\n",
       "      <td>...</td>\n",
       "      <td>...</td>\n",
       "      <td>...</td>\n",
       "    </tr>\n",
       "    <tr>\n",
       "      <th>2019-10-06</th>\n",
       "      <td>False</td>\n",
       "      <td>False</td>\n",
       "      <td>False</td>\n",
       "      <td>False</td>\n",
       "      <td>False</td>\n",
       "      <td>False</td>\n",
       "      <td>False</td>\n",
       "      <td>False</td>\n",
       "    </tr>\n",
       "    <tr>\n",
       "      <th>2019-10-06</th>\n",
       "      <td>False</td>\n",
       "      <td>False</td>\n",
       "      <td>False</td>\n",
       "      <td>False</td>\n",
       "      <td>False</td>\n",
       "      <td>False</td>\n",
       "      <td>False</td>\n",
       "      <td>False</td>\n",
       "    </tr>\n",
       "    <tr>\n",
       "      <th>2019-10-06</th>\n",
       "      <td>False</td>\n",
       "      <td>False</td>\n",
       "      <td>False</td>\n",
       "      <td>False</td>\n",
       "      <td>False</td>\n",
       "      <td>False</td>\n",
       "      <td>False</td>\n",
       "      <td>False</td>\n",
       "    </tr>\n",
       "    <tr>\n",
       "      <th>2019-10-06</th>\n",
       "      <td>False</td>\n",
       "      <td>False</td>\n",
       "      <td>False</td>\n",
       "      <td>False</td>\n",
       "      <td>False</td>\n",
       "      <td>False</td>\n",
       "      <td>False</td>\n",
       "      <td>False</td>\n",
       "    </tr>\n",
       "    <tr>\n",
       "      <th>2019-10-06</th>\n",
       "      <td>False</td>\n",
       "      <td>False</td>\n",
       "      <td>False</td>\n",
       "      <td>False</td>\n",
       "      <td>False</td>\n",
       "      <td>False</td>\n",
       "      <td>False</td>\n",
       "      <td>False</td>\n",
       "    </tr>\n",
       "  </tbody>\n",
       "</table>\n",
       "<p>278466 rows × 8 columns</p>\n",
       "</div>"
      ],
      "text/plain": [
       "             Year  Month    Day   Hour  Minute  ProductType  ItineraryType  \\\n",
       "Date                                                                         \n",
       "2018-01-12  False  False  False  False   False        False          False   \n",
       "2018-01-12  False  False  False  False   False        False          False   \n",
       "2018-01-12  False  False  False  False   False        False          False   \n",
       "2018-01-12  False  False  False  False   False        False          False   \n",
       "2018-11-30  False  False  False  False   False        False          False   \n",
       "...           ...    ...    ...    ...     ...          ...            ...   \n",
       "2019-10-06  False  False  False  False   False        False          False   \n",
       "2019-10-06  False  False  False  False   False        False          False   \n",
       "2019-10-06  False  False  False  False   False        False          False   \n",
       "2019-10-06  False  False  False  False   False        False          False   \n",
       "2019-10-06  False  False  False  False   False        False          False   \n",
       "\n",
       "            NetFare  \n",
       "Date                 \n",
       "2018-01-12    False  \n",
       "2018-01-12    False  \n",
       "2018-01-12    False  \n",
       "2018-01-12    False  \n",
       "2018-11-30    False  \n",
       "...             ...  \n",
       "2019-10-06    False  \n",
       "2019-10-06    False  \n",
       "2019-10-06    False  \n",
       "2019-10-06    False  \n",
       "2019-10-06    False  \n",
       "\n",
       "[278466 rows x 8 columns]"
      ]
     },
     "execution_count": 11,
     "metadata": {},
     "output_type": "execute_result"
    }
   ],
   "source": [
    "missing_value = df.isnull()\n",
    "missing_value"
   ]
  },
  {
   "cell_type": "markdown",
   "metadata": {},
   "source": [
    "### Count missing values in each column\n",
    "\n",
    "Using a for loop in Python, we can quickly figure out the number of missing values in each column.<br>\n",
    "**\"True\" stands for missing value, while \"False\" stands for not missing value**"
   ]
  },
  {
   "cell_type": "code",
   "execution_count": 12,
   "metadata": {},
   "outputs": [
    {
     "name": "stdout",
     "output_type": "stream",
     "text": [
      "Year\n",
      "False    278464\n",
      "True          2\n",
      "Name: Year, dtype: int64\n",
      "\n",
      "Month\n",
      "False    278464\n",
      "True          2\n",
      "Name: Month, dtype: int64\n",
      "\n",
      "Day\n",
      "False    278464\n",
      "True          2\n",
      "Name: Day, dtype: int64\n",
      "\n",
      "Hour\n",
      "False    278464\n",
      "True          2\n",
      "Name: Hour, dtype: int64\n",
      "\n",
      "Minute\n",
      "False    278464\n",
      "True          2\n",
      "Name: Minute, dtype: int64\n",
      "\n",
      "ProductType\n",
      "False    278464\n",
      "True          2\n",
      "Name: ProductType, dtype: int64\n",
      "\n",
      "ItineraryType\n",
      "False    245689\n",
      "True      32777\n",
      "Name: ItineraryType, dtype: int64\n",
      "\n",
      "NetFare\n",
      "False    217576\n",
      "True      60890\n",
      "Name: NetFare, dtype: int64\n",
      "\n"
     ]
    }
   ],
   "source": [
    "for column in missing_value.columns.values.tolist():\n",
    "    print(column)\n",
    "    print (missing_value[column].value_counts())\n",
    "    print(\"\") "
   ]
  },
  {
   "cell_type": "markdown",
   "metadata": {},
   "source": [
    "Based on the summary above, each column has 278466 rows of data, all columns containing missing data:\n",
    "<ol>\n",
    "<li>\"Year\",\"Month\",\"Day\",\"Hour\",\"Minute\": 2 missing data</li>\n",
    "<li>\"ProductType\": 2 missing data</li>\n",
    "<li>\"ItineraryType\": 32777 missing data</li>    \n",
    "<li>\"NetFare\": 60890 missing data</li>\n",
    "</ol>"
   ]
  },
  {
   "cell_type": "markdown",
   "metadata": {},
   "source": [
    "<h3 id=\"deal_missing_values\">Deal with missing data</h3>"
   ]
  },
  {
   "cell_type": "markdown",
   "metadata": {},
   "source": [
    "<b>Drop rows:</b>\n",
    "<ol>\n",
    "    <li>\"Year\",\"Month\",\"Day\",\"Hour\",\"Minute\": 2 missing data, drop them , two observations among large dataset are not so big deals</li>\n",
    "    <li>\"ProductType\": 2 missing data, drop them , two observations among large dataset are not so big deals</li>\n",
    "    <li>\"ItineraryType\": 32777 missing data, drop them , they are totally empty, we have huge data</li>\n",
    "    <li>\"NetFare\": 60890 missing data, drop whole rows, they are totally empty</li>  \n",
    "</ol>"
   ]
  },
  {
   "cell_type": "markdown",
   "metadata": {},
   "source": [
    "Show data types"
   ]
  },
  {
   "cell_type": "markdown",
   "metadata": {},
   "source": [
    "Drop missing values **[\"Year\",\"Month\",\"Day\",\"Hour\",\"Minute\"]** in observations, the two rows are negelegible"
   ]
  },
  {
   "cell_type": "code",
   "execution_count": 13,
   "metadata": {},
   "outputs": [],
   "source": [
    "df.dropna(subset=[\"Year\",\"Month\",\"Day\",\"Hour\",\"Minute\"], axis=0, inplace=True)"
   ]
  },
  {
   "cell_type": "markdown",
   "metadata": {},
   "source": [
    "Drop missing values **[ProductType]** in observations, the two rows are negelegible "
   ]
  },
  {
   "cell_type": "code",
   "execution_count": 14,
   "metadata": {},
   "outputs": [],
   "source": [
    "df.dropna(subset=[\"ProductType\"], axis=0, inplace=True)"
   ]
  },
  {
   "cell_type": "markdown",
   "metadata": {},
   "source": [
    "Drop missing values **[ItineraryType]** in observations, they are not very sensitive "
   ]
  },
  {
   "cell_type": "code",
   "execution_count": 15,
   "metadata": {},
   "outputs": [],
   "source": [
    "df.dropna(subset=[\"ItineraryType\"], axis=0, inplace=True)"
   ]
  },
  {
   "cell_type": "markdown",
   "metadata": {},
   "source": [
    "Drop missing values **[NetFare]** in observations, they are completly empty "
   ]
  },
  {
   "cell_type": "code",
   "execution_count": 16,
   "metadata": {},
   "outputs": [],
   "source": [
    "df.dropna(subset=[\"NetFare\"], axis=0, inplace=True)"
   ]
  },
  {
   "cell_type": "markdown",
   "metadata": {},
   "source": [
    "Reset index, because we droped many rows & sorted"
   ]
  },
  {
   "cell_type": "code",
   "execution_count": 17,
   "metadata": {},
   "outputs": [
    {
     "data": {
      "text/html": [
       "<div>\n",
       "<style scoped>\n",
       "    .dataframe tbody tr th:only-of-type {\n",
       "        vertical-align: middle;\n",
       "    }\n",
       "\n",
       "    .dataframe tbody tr th {\n",
       "        vertical-align: top;\n",
       "    }\n",
       "\n",
       "    .dataframe thead th {\n",
       "        text-align: right;\n",
       "    }\n",
       "</style>\n",
       "<table border=\"1\" class=\"dataframe\">\n",
       "  <thead>\n",
       "    <tr style=\"text-align: right;\">\n",
       "      <th></th>\n",
       "      <th>Date</th>\n",
       "      <th>Year</th>\n",
       "      <th>Month</th>\n",
       "      <th>Day</th>\n",
       "      <th>Hour</th>\n",
       "      <th>Minute</th>\n",
       "      <th>ProductType</th>\n",
       "      <th>ItineraryType</th>\n",
       "      <th>NetFare</th>\n",
       "    </tr>\n",
       "  </thead>\n",
       "  <tbody>\n",
       "    <tr>\n",
       "      <th>93239</th>\n",
       "      <td>2018-01-04</td>\n",
       "      <td>2018.0</td>\n",
       "      <td>1.0</td>\n",
       "      <td>4.0</td>\n",
       "      <td>17.0</td>\n",
       "      <td>28.0</td>\n",
       "      <td>Air</td>\n",
       "      <td>Domestic</td>\n",
       "      <td>7515.0</td>\n",
       "    </tr>\n",
       "    <tr>\n",
       "      <th>93227</th>\n",
       "      <td>2018-01-04</td>\n",
       "      <td>2018.0</td>\n",
       "      <td>1.0</td>\n",
       "      <td>4.0</td>\n",
       "      <td>13.0</td>\n",
       "      <td>25.0</td>\n",
       "      <td>Air</td>\n",
       "      <td>Domestic</td>\n",
       "      <td>5168.0</td>\n",
       "    </tr>\n",
       "    <tr>\n",
       "      <th>93250</th>\n",
       "      <td>2018-01-04</td>\n",
       "      <td>2018.0</td>\n",
       "      <td>1.0</td>\n",
       "      <td>4.0</td>\n",
       "      <td>22.0</td>\n",
       "      <td>38.0</td>\n",
       "      <td>Air</td>\n",
       "      <td>Domestic</td>\n",
       "      <td>6261.0</td>\n",
       "    </tr>\n",
       "    <tr>\n",
       "      <th>93249</th>\n",
       "      <td>2018-01-04</td>\n",
       "      <td>2018.0</td>\n",
       "      <td>1.0</td>\n",
       "      <td>4.0</td>\n",
       "      <td>21.0</td>\n",
       "      <td>12.0</td>\n",
       "      <td>Air</td>\n",
       "      <td>Domestic</td>\n",
       "      <td>3473.0</td>\n",
       "    </tr>\n",
       "    <tr>\n",
       "      <th>93248</th>\n",
       "      <td>2018-01-04</td>\n",
       "      <td>2018.0</td>\n",
       "      <td>1.0</td>\n",
       "      <td>4.0</td>\n",
       "      <td>20.0</td>\n",
       "      <td>59.0</td>\n",
       "      <td>Air</td>\n",
       "      <td>Domestic</td>\n",
       "      <td>5011.0</td>\n",
       "    </tr>\n",
       "  </tbody>\n",
       "</table>\n",
       "</div>"
      ],
      "text/plain": [
       "            Date    Year  Month  Day  Hour  Minute ProductType ItineraryType  \\\n",
       "93239 2018-01-04  2018.0    1.0  4.0  17.0    28.0         Air      Domestic   \n",
       "93227 2018-01-04  2018.0    1.0  4.0  13.0    25.0         Air      Domestic   \n",
       "93250 2018-01-04  2018.0    1.0  4.0  22.0    38.0         Air      Domestic   \n",
       "93249 2018-01-04  2018.0    1.0  4.0  21.0    12.0         Air      Domestic   \n",
       "93248 2018-01-04  2018.0    1.0  4.0  20.0    59.0         Air      Domestic   \n",
       "\n",
       "       NetFare  \n",
       "93239   7515.0  \n",
       "93227   5168.0  \n",
       "93250   6261.0  \n",
       "93249   3473.0  \n",
       "93248   5011.0  "
      ]
     },
     "execution_count": 17,
     "metadata": {},
     "output_type": "execute_result"
    }
   ],
   "source": [
    "df.reset_index().sort_values(by='Date').head()"
   ]
  },
  {
   "cell_type": "markdown",
   "metadata": {},
   "source": [
    "**Final Clean** data"
   ]
  },
  {
   "cell_type": "code",
   "execution_count": 18,
   "metadata": {},
   "outputs": [],
   "source": [
    "df_clean = df.isnull()"
   ]
  },
  {
   "cell_type": "markdown",
   "metadata": {},
   "source": [
    "**\"True\" stands for missing value, while \"False\" stands for not missing value**"
   ]
  },
  {
   "cell_type": "code",
   "execution_count": 19,
   "metadata": {},
   "outputs": [
    {
     "name": "stdout",
     "output_type": "stream",
     "text": [
      "Year\n",
      "False    184800\n",
      "Name: Year, dtype: int64\n",
      "\n",
      "Month\n",
      "False    184800\n",
      "Name: Month, dtype: int64\n",
      "\n",
      "Day\n",
      "False    184800\n",
      "Name: Day, dtype: int64\n",
      "\n",
      "Hour\n",
      "False    184800\n",
      "Name: Hour, dtype: int64\n",
      "\n",
      "Minute\n",
      "False    184800\n",
      "Name: Minute, dtype: int64\n",
      "\n",
      "ProductType\n",
      "False    184800\n",
      "Name: ProductType, dtype: int64\n",
      "\n",
      "ItineraryType\n",
      "False    184800\n",
      "Name: ItineraryType, dtype: int64\n",
      "\n",
      "NetFare\n",
      "False    184800\n",
      "Name: NetFare, dtype: int64\n",
      "\n"
     ]
    }
   ],
   "source": [
    "for column in df_clean.columns.values.tolist():\n",
    "    print(column)\n",
    "    print (df_clean[column].value_counts())\n",
    "    print(\"\") "
   ]
  },
  {
   "cell_type": "markdown",
   "metadata": {},
   "source": [
    "RAW Data observations=**278466**, CLEANED Data observations=**184800**"
   ]
  },
  {
   "cell_type": "markdown",
   "metadata": {},
   "source": [
    "#### Identifying Outliers with Interquartile Range (IQR)"
   ]
  },
  {
   "cell_type": "code",
   "execution_count": 20,
   "metadata": {},
   "outputs": [
    {
     "name": "stdout",
     "output_type": "stream",
     "text": [
      "Year          1.0\n",
      "Month         6.0\n",
      "Day          18.0\n",
      "Hour          6.0\n",
      "Minute       30.0\n",
      "NetFare    4314.0\n",
      "dtype: float64\n"
     ]
    }
   ],
   "source": [
    "Q1 = df.quantile(0.25)\n",
    "Q3 = df.quantile(0.75)\n",
    "IQR = Q3 - Q1  \n",
    "print(IQR)"
   ]
  },
  {
   "cell_type": "markdown",
   "metadata": {},
   "source": [
    "The code below generates an output with the 'True' and 'False' values. Points where the values are 'True' represent the presence of the outlier."
   ]
  },
  {
   "cell_type": "code",
   "execution_count": 21,
   "metadata": {},
   "outputs": [
    {
     "name": "stdout",
     "output_type": "stream",
     "text": [
      "              Day   Hour  ItineraryType  Minute  Month  NetFare  ProductType  \\\n",
      "Date                                                                           \n",
      "2018-01-12  False  False          False   False  False    False        False   \n",
      "2018-01-12  False  False          False   False  False    False        False   \n",
      "2018-01-12  False  False          False   False  False    False        False   \n",
      "2018-01-12  False  False          False   False  False    False        False   \n",
      "2018-11-30  False  False          False   False  False    False        False   \n",
      "...           ...    ...            ...     ...    ...      ...          ...   \n",
      "2019-10-06  False  False          False   False  False    False        False   \n",
      "2019-10-06  False  False          False   False  False    False        False   \n",
      "2019-10-06  False  False          False   False  False    False        False   \n",
      "2019-10-06  False  False          False   False  False    False        False   \n",
      "2019-10-06  False  False          False   False  False    False        False   \n",
      "\n",
      "             Year  \n",
      "Date               \n",
      "2018-01-12  False  \n",
      "2018-01-12  False  \n",
      "2018-01-12  False  \n",
      "2018-01-12  False  \n",
      "2018-11-30  False  \n",
      "...           ...  \n",
      "2019-10-06  False  \n",
      "2019-10-06  False  \n",
      "2019-10-06  False  \n",
      "2019-10-06  False  \n",
      "2019-10-06  False  \n",
      "\n",
      "[184800 rows x 8 columns]\n"
     ]
    }
   ],
   "source": [
    "print((df  < (Q1 - 1.5 * IQR)) | (df  > (Q3 + 1.5 * IQR)))"
   ]
  },
  {
   "cell_type": "markdown",
   "metadata": {},
   "source": [
    "↑ Data is highly right skewed (11.13). Max value is 497678.It is due to outliers. So, there has necessary to delete outliers. "
   ]
  },
  {
   "cell_type": "markdown",
   "metadata": {},
   "source": [
    "We use the **IQR method** to delete outliers from records"
   ]
  },
  {
   "cell_type": "code",
   "execution_count": 22,
   "metadata": {},
   "outputs": [
    {
     "name": "stdout",
     "output_type": "stream",
     "text": [
      "(167132, 8)\n"
     ]
    }
   ],
   "source": [
    "df_out = df[~((df < (Q1 - 1.5 * IQR)) |(df > (Q3 + 1.5 * IQR))).any(axis=1)]\n",
    "print(df_out.shape)"
   ]
  },
  {
   "cell_type": "code",
   "execution_count": 23,
   "metadata": {},
   "outputs": [
    {
     "data": {
      "text/html": [
       "<div>\n",
       "<style scoped>\n",
       "    .dataframe tbody tr th:only-of-type {\n",
       "        vertical-align: middle;\n",
       "    }\n",
       "\n",
       "    .dataframe tbody tr th {\n",
       "        vertical-align: top;\n",
       "    }\n",
       "\n",
       "    .dataframe thead th {\n",
       "        text-align: right;\n",
       "    }\n",
       "</style>\n",
       "<table border=\"1\" class=\"dataframe\">\n",
       "  <thead>\n",
       "    <tr style=\"text-align: right;\">\n",
       "      <th></th>\n",
       "      <th>Date</th>\n",
       "      <th>Year</th>\n",
       "      <th>Month</th>\n",
       "      <th>Day</th>\n",
       "      <th>Hour</th>\n",
       "      <th>Minute</th>\n",
       "      <th>ProductType</th>\n",
       "      <th>ItineraryType</th>\n",
       "      <th>NetFare</th>\n",
       "    </tr>\n",
       "  </thead>\n",
       "  <tbody>\n",
       "    <tr>\n",
       "      <th>84394</th>\n",
       "      <td>2018-01-04</td>\n",
       "      <td>2018.0</td>\n",
       "      <td>1.0</td>\n",
       "      <td>4.0</td>\n",
       "      <td>17.0</td>\n",
       "      <td>50.0</td>\n",
       "      <td>Air</td>\n",
       "      <td>Domestic</td>\n",
       "      <td>3577.0</td>\n",
       "    </tr>\n",
       "    <tr>\n",
       "      <th>84395</th>\n",
       "      <td>2018-01-04</td>\n",
       "      <td>2018.0</td>\n",
       "      <td>1.0</td>\n",
       "      <td>4.0</td>\n",
       "      <td>17.0</td>\n",
       "      <td>50.0</td>\n",
       "      <td>Air</td>\n",
       "      <td>Domestic</td>\n",
       "      <td>3577.0</td>\n",
       "    </tr>\n",
       "    <tr>\n",
       "      <th>84375</th>\n",
       "      <td>2018-01-04</td>\n",
       "      <td>2018.0</td>\n",
       "      <td>1.0</td>\n",
       "      <td>4.0</td>\n",
       "      <td>8.0</td>\n",
       "      <td>26.0</td>\n",
       "      <td>Air</td>\n",
       "      <td>Domestic</td>\n",
       "      <td>8222.0</td>\n",
       "    </tr>\n",
       "    <tr>\n",
       "      <th>84376</th>\n",
       "      <td>2018-01-04</td>\n",
       "      <td>2018.0</td>\n",
       "      <td>1.0</td>\n",
       "      <td>4.0</td>\n",
       "      <td>9.0</td>\n",
       "      <td>17.0</td>\n",
       "      <td>Air</td>\n",
       "      <td>Domestic</td>\n",
       "      <td>3418.0</td>\n",
       "    </tr>\n",
       "    <tr>\n",
       "      <th>84378</th>\n",
       "      <td>2018-01-04</td>\n",
       "      <td>2018.0</td>\n",
       "      <td>1.0</td>\n",
       "      <td>4.0</td>\n",
       "      <td>12.0</td>\n",
       "      <td>0.0</td>\n",
       "      <td>Air</td>\n",
       "      <td>Domestic</td>\n",
       "      <td>3625.0</td>\n",
       "    </tr>\n",
       "    <tr>\n",
       "      <th>...</th>\n",
       "      <td>...</td>\n",
       "      <td>...</td>\n",
       "      <td>...</td>\n",
       "      <td>...</td>\n",
       "      <td>...</td>\n",
       "      <td>...</td>\n",
       "      <td>...</td>\n",
       "      <td>...</td>\n",
       "      <td>...</td>\n",
       "    </tr>\n",
       "    <tr>\n",
       "      <th>63505</th>\n",
       "      <td>2019-12-05</td>\n",
       "      <td>2019.0</td>\n",
       "      <td>12.0</td>\n",
       "      <td>5.0</td>\n",
       "      <td>14.0</td>\n",
       "      <td>52.0</td>\n",
       "      <td>Air</td>\n",
       "      <td>Domestic</td>\n",
       "      <td>2305.0</td>\n",
       "    </tr>\n",
       "    <tr>\n",
       "      <th>63506</th>\n",
       "      <td>2019-12-05</td>\n",
       "      <td>2019.0</td>\n",
       "      <td>12.0</td>\n",
       "      <td>5.0</td>\n",
       "      <td>14.0</td>\n",
       "      <td>57.0</td>\n",
       "      <td>Air Cancellation</td>\n",
       "      <td>Domestic</td>\n",
       "      <td>-3600.0</td>\n",
       "    </tr>\n",
       "    <tr>\n",
       "      <th>63507</th>\n",
       "      <td>2019-12-05</td>\n",
       "      <td>2019.0</td>\n",
       "      <td>12.0</td>\n",
       "      <td>5.0</td>\n",
       "      <td>14.0</td>\n",
       "      <td>58.0</td>\n",
       "      <td>Other Product</td>\n",
       "      <td>Domestic</td>\n",
       "      <td>127.0</td>\n",
       "    </tr>\n",
       "    <tr>\n",
       "      <th>63497</th>\n",
       "      <td>2019-12-05</td>\n",
       "      <td>2019.0</td>\n",
       "      <td>12.0</td>\n",
       "      <td>5.0</td>\n",
       "      <td>14.0</td>\n",
       "      <td>51.0</td>\n",
       "      <td>Air</td>\n",
       "      <td>Domestic</td>\n",
       "      <td>3150.0</td>\n",
       "    </tr>\n",
       "    <tr>\n",
       "      <th>63583</th>\n",
       "      <td>2019-12-05</td>\n",
       "      <td>2019.0</td>\n",
       "      <td>12.0</td>\n",
       "      <td>5.0</td>\n",
       "      <td>17.0</td>\n",
       "      <td>49.0</td>\n",
       "      <td>Other Product</td>\n",
       "      <td>Domestic</td>\n",
       "      <td>269.0</td>\n",
       "    </tr>\n",
       "  </tbody>\n",
       "</table>\n",
       "<p>167132 rows × 9 columns</p>\n",
       "</div>"
      ],
      "text/plain": [
       "            Date    Year  Month  Day  Hour  Minute       ProductType  \\\n",
       "84394 2018-01-04  2018.0    1.0  4.0  17.0    50.0               Air   \n",
       "84395 2018-01-04  2018.0    1.0  4.0  17.0    50.0               Air   \n",
       "84375 2018-01-04  2018.0    1.0  4.0   8.0    26.0               Air   \n",
       "84376 2018-01-04  2018.0    1.0  4.0   9.0    17.0               Air   \n",
       "84378 2018-01-04  2018.0    1.0  4.0  12.0     0.0               Air   \n",
       "...          ...     ...    ...  ...   ...     ...               ...   \n",
       "63505 2019-12-05  2019.0   12.0  5.0  14.0    52.0               Air   \n",
       "63506 2019-12-05  2019.0   12.0  5.0  14.0    57.0  Air Cancellation   \n",
       "63507 2019-12-05  2019.0   12.0  5.0  14.0    58.0     Other Product   \n",
       "63497 2019-12-05  2019.0   12.0  5.0  14.0    51.0               Air   \n",
       "63583 2019-12-05  2019.0   12.0  5.0  17.0    49.0     Other Product   \n",
       "\n",
       "      ItineraryType  NetFare  \n",
       "84394      Domestic   3577.0  \n",
       "84395      Domestic   3577.0  \n",
       "84375      Domestic   8222.0  \n",
       "84376      Domestic   3418.0  \n",
       "84378      Domestic   3625.0  \n",
       "...             ...      ...  \n",
       "63505      Domestic   2305.0  \n",
       "63506      Domestic  -3600.0  \n",
       "63507      Domestic    127.0  \n",
       "63497      Domestic   3150.0  \n",
       "63583      Domestic    269.0  \n",
       "\n",
       "[167132 rows x 9 columns]"
      ]
     },
     "execution_count": 23,
     "metadata": {},
     "output_type": "execute_result"
    }
   ],
   "source": [
    "df_out.reset_index().sort_values(by='Date')"
   ]
  },
  {
   "cell_type": "markdown",
   "metadata": {},
   "source": [
    "Among CLEAN Data observations=**184800**, after delation of outlier REMAINDER Data observations=**167132** "
   ]
  },
  {
   "cell_type": "code",
   "execution_count": 24,
   "metadata": {},
   "outputs": [],
   "source": [
    "import warnings\n",
    "warnings.filterwarnings('ignore')"
   ]
  },
  {
   "cell_type": "markdown",
   "metadata": {},
   "source": [
    "### Create dummie variables of ['ProductType', 'ItineraryType']"
   ]
  },
  {
   "cell_type": "code",
   "execution_count": 25,
   "metadata": {},
   "outputs": [],
   "source": [
    "dummy_df=pd.get_dummies(df_out, columns=['ProductType', 'ItineraryType'], drop_first=True)"
   ]
  },
  {
   "cell_type": "code",
   "execution_count": 26,
   "metadata": {},
   "outputs": [],
   "source": [
    "dummy_df.rename(columns = {'ProductType_Air Cancellation':'ProTypeAirCanc','ProductType_Air Debit Note':'ProTypeAirDebtNote','ProductType_Air Loss':'ProTypeAirLoss','ProductType_Hotel':'ProTypeHot','ProductType_Hotel Cancellation':'ProTypeHotCanc','ProductType_Hotel Debit Note':'ProTypeHotDebNote','ProductType_Hotel Loss':'ProTypeHotLoss','ProductType_Other Product':'ProTypeOthPro','ProductType_Other Product Cancellation':'ProTypeOthProCanc','ProductType_Other Product Debit Note':'ProTypeOthProDebNote','ItineraryType_International':'IteTypeInter'}, inplace=True)\n"
   ]
  },
  {
   "cell_type": "code",
   "execution_count": 27,
   "metadata": {},
   "outputs": [
    {
     "data": {
      "text/html": [
       "<div>\n",
       "<style scoped>\n",
       "    .dataframe tbody tr th:only-of-type {\n",
       "        vertical-align: middle;\n",
       "    }\n",
       "\n",
       "    .dataframe tbody tr th {\n",
       "        vertical-align: top;\n",
       "    }\n",
       "\n",
       "    .dataframe thead th {\n",
       "        text-align: right;\n",
       "    }\n",
       "</style>\n",
       "<table border=\"1\" class=\"dataframe\">\n",
       "  <thead>\n",
       "    <tr style=\"text-align: right;\">\n",
       "      <th></th>\n",
       "      <th>Year</th>\n",
       "      <th>Month</th>\n",
       "      <th>Day</th>\n",
       "      <th>Hour</th>\n",
       "      <th>Minute</th>\n",
       "      <th>NetFare</th>\n",
       "      <th>ProTypeAirCanc</th>\n",
       "      <th>ProTypeAirDebtNote</th>\n",
       "      <th>ProTypeAirLoss</th>\n",
       "      <th>ProTypeHot</th>\n",
       "      <th>ProTypeHotCanc</th>\n",
       "      <th>ProTypeHotDebNote</th>\n",
       "      <th>ProTypeHotLoss</th>\n",
       "      <th>ProTypeOthPro</th>\n",
       "      <th>ProTypeOthProCanc</th>\n",
       "      <th>ProTypeOthProDebNote</th>\n",
       "      <th>IteTypeInter</th>\n",
       "    </tr>\n",
       "    <tr>\n",
       "      <th>Date</th>\n",
       "      <th></th>\n",
       "      <th></th>\n",
       "      <th></th>\n",
       "      <th></th>\n",
       "      <th></th>\n",
       "      <th></th>\n",
       "      <th></th>\n",
       "      <th></th>\n",
       "      <th></th>\n",
       "      <th></th>\n",
       "      <th></th>\n",
       "      <th></th>\n",
       "      <th></th>\n",
       "      <th></th>\n",
       "      <th></th>\n",
       "      <th></th>\n",
       "      <th></th>\n",
       "    </tr>\n",
       "  </thead>\n",
       "  <tbody>\n",
       "    <tr>\n",
       "      <th>2018-01-12</th>\n",
       "      <td>2018.0</td>\n",
       "      <td>1.0</td>\n",
       "      <td>12.0</td>\n",
       "      <td>11.0</td>\n",
       "      <td>43.0</td>\n",
       "      <td>2160.00</td>\n",
       "      <td>0</td>\n",
       "      <td>0</td>\n",
       "      <td>0</td>\n",
       "      <td>0</td>\n",
       "      <td>0</td>\n",
       "      <td>0</td>\n",
       "      <td>0</td>\n",
       "      <td>1</td>\n",
       "      <td>0</td>\n",
       "      <td>0</td>\n",
       "      <td>0</td>\n",
       "    </tr>\n",
       "    <tr>\n",
       "      <th>2018-01-12</th>\n",
       "      <td>2018.0</td>\n",
       "      <td>1.0</td>\n",
       "      <td>12.0</td>\n",
       "      <td>11.0</td>\n",
       "      <td>43.0</td>\n",
       "      <td>0.49</td>\n",
       "      <td>0</td>\n",
       "      <td>0</td>\n",
       "      <td>0</td>\n",
       "      <td>0</td>\n",
       "      <td>0</td>\n",
       "      <td>0</td>\n",
       "      <td>0</td>\n",
       "      <td>1</td>\n",
       "      <td>0</td>\n",
       "      <td>0</td>\n",
       "      <td>0</td>\n",
       "    </tr>\n",
       "  </tbody>\n",
       "</table>\n",
       "</div>"
      ],
      "text/plain": [
       "              Year  Month   Day  Hour  Minute  NetFare  ProTypeAirCanc  \\\n",
       "Date                                                                     \n",
       "2018-01-12  2018.0    1.0  12.0  11.0    43.0  2160.00               0   \n",
       "2018-01-12  2018.0    1.0  12.0  11.0    43.0     0.49               0   \n",
       "\n",
       "            ProTypeAirDebtNote  ProTypeAirLoss  ProTypeHot  ProTypeHotCanc  \\\n",
       "Date                                                                         \n",
       "2018-01-12                   0               0           0               0   \n",
       "2018-01-12                   0               0           0               0   \n",
       "\n",
       "            ProTypeHotDebNote  ProTypeHotLoss  ProTypeOthPro  \\\n",
       "Date                                                           \n",
       "2018-01-12                  0               0              1   \n",
       "2018-01-12                  0               0              1   \n",
       "\n",
       "            ProTypeOthProCanc  ProTypeOthProDebNote  IteTypeInter  \n",
       "Date                                                               \n",
       "2018-01-12                  0                     0             0  \n",
       "2018-01-12                  0                     0             0  "
      ]
     },
     "execution_count": 27,
     "metadata": {},
     "output_type": "execute_result"
    }
   ],
   "source": [
    "dummy_df.head(2)"
   ]
  },
  {
   "cell_type": "code",
   "execution_count": 28,
   "metadata": {},
   "outputs": [
    {
     "data": {
      "text/plain": [
       "Year                    float64\n",
       "Month                   float64\n",
       "Day                     float64\n",
       "Hour                    float64\n",
       "Minute                  float64\n",
       "NetFare                 float64\n",
       "ProTypeAirCanc            uint8\n",
       "ProTypeAirDebtNote        uint8\n",
       "ProTypeAirLoss            uint8\n",
       "ProTypeHot                uint8\n",
       "ProTypeHotCanc            uint8\n",
       "ProTypeHotDebNote         uint8\n",
       "ProTypeHotLoss            uint8\n",
       "ProTypeOthPro             uint8\n",
       "ProTypeOthProCanc         uint8\n",
       "ProTypeOthProDebNote      uint8\n",
       "IteTypeInter              uint8\n",
       "dtype: object"
      ]
     },
     "execution_count": 28,
     "metadata": {},
     "output_type": "execute_result"
    }
   ],
   "source": [
    "dummy_df.dtypes"
   ]
  },
  {
   "cell_type": "code",
   "execution_count": 29,
   "metadata": {},
   "outputs": [],
   "source": [
    "# converting dtypes using astype \n",
    "dummy_df[\"Year\"]= dummy_df[\"Year\"].astype(int) \n",
    "dummy_df[\"Month\"]= dummy_df[\"Month\"].astype(int) \n",
    "dummy_df[\"Day\"]= dummy_df[\"Day\"].astype(int) \n",
    "dummy_df[\"Hour\"]= dummy_df[\"Hour\"].astype(int) \n",
    "dummy_df[\"Minute\"]= dummy_df[\"Minute\"].astype(int) \n",
    "dummy_df[\"NetFare\"]= dummy_df[\"NetFare\"].astype(float) \n",
    "dummy_df[\"ProTypeHot\"]= dummy_df[\"ProTypeHot\"].astype(int) \n",
    "dummy_df[\"ProTypeOthPro\"]= dummy_df[\"ProTypeOthPro\"].astype(int)\n",
    "dummy_df[\"IteTypeInter\"]= dummy_df[\"IteTypeInter\"].astype(int)"
   ]
  },
  {
   "cell_type": "code",
   "execution_count": 30,
   "metadata": {},
   "outputs": [
    {
     "data": {
      "text/plain": [
       "Year                      int32\n",
       "Month                     int32\n",
       "Day                       int32\n",
       "Hour                      int32\n",
       "Minute                    int32\n",
       "NetFare                 float64\n",
       "ProTypeAirCanc            uint8\n",
       "ProTypeAirDebtNote        uint8\n",
       "ProTypeAirLoss            uint8\n",
       "ProTypeHot                int32\n",
       "ProTypeHotCanc            uint8\n",
       "ProTypeHotDebNote         uint8\n",
       "ProTypeHotLoss            uint8\n",
       "ProTypeOthPro             int32\n",
       "ProTypeOthProCanc         uint8\n",
       "ProTypeOthProDebNote      uint8\n",
       "IteTypeInter              int32\n",
       "dtype: object"
      ]
     },
     "execution_count": 30,
     "metadata": {},
     "output_type": "execute_result"
    }
   ],
   "source": [
    "dummy_df.dtypes"
   ]
  },
  {
   "cell_type": "markdown",
   "metadata": {},
   "source": [
    "Year\tMonth\tDay\tHour\tMinute\tNetFare\tProTypeAirCanc\tProTypeAirDebtNote\tProTypeAirLoss\tProTypeHot\tProTypeHotCanc\tProTypeHotDebNote\tProTypeHotLoss\tProTypeOthPro\tProTypeOthProCanc\tProTypeOthProDebNote\tIteTypeInter"
   ]
  },
  {
   "cell_type": "code",
   "execution_count": 31,
   "metadata": {},
   "outputs": [],
   "source": [
    "#data_model=dummy_df[['Year','Month','Day','Hour','Minute','ProTypeAirCanc','ProTypeAirDebtNote','ProTypeAirLoss','ProTypeHot','ProTypeHotCanc','ProTypeHotDebNote','ProTypeHotLoss','ProTypeOthPro','ProTypeOthProCanc','ProTypeOthProDebNote','IteTypeInter','NetFare']]"
   ]
  },
  {
   "cell_type": "code",
   "execution_count": 46,
   "metadata": {},
   "outputs": [],
   "source": [
    "data_model=dummy_df[['Year','Month','Day','Hour','Minute','ProTypeHot','ProTypeOthPro','IteTypeInter','ProTypeAirCanc','NetFare']]"
   ]
  },
  {
   "cell_type": "code",
   "execution_count": 47,
   "metadata": {},
   "outputs": [],
   "source": [
    "from sklearn.model_selection import train_test_split\n",
    "from sklearn.linear_model import LinearRegression\n",
    "from sklearn.metrics import r2_score "
   ]
  },
  {
   "cell_type": "code",
   "execution_count": 48,
   "metadata": {},
   "outputs": [],
   "source": [
    "X = dummy_df[['Year','Month','Day','Hour','Minute','ProTypeHot','ProTypeOthPro','IteTypeInter','ProTypeAirCanc']]\n",
    "y = dummy_df['NetFare']"
   ]
  },
  {
   "cell_type": "code",
   "execution_count": 49,
   "metadata": {},
   "outputs": [],
   "source": [
    "# Split data into train and test \n",
    "X_train, X_test, y_train, y_test = train_test_split(X,y, test_size=0.2, random_state=0)"
   ]
  },
  {
   "cell_type": "code",
   "execution_count": 50,
   "metadata": {},
   "outputs": [
    {
     "data": {
      "text/plain": [
       "LinearRegression(copy_X=True, fit_intercept=True, n_jobs=None, normalize=False)"
      ]
     },
     "execution_count": 50,
     "metadata": {},
     "output_type": "execute_result"
    }
   ],
   "source": [
    "# Fit or Train the Model\n",
    "lr_model = LinearRegression()\n",
    "lr_model.fit(X_train,y_train)"
   ]
  },
  {
   "cell_type": "code",
   "execution_count": 51,
   "metadata": {},
   "outputs": [
    {
     "name": "stdout",
     "output_type": "stream",
     "text": [
      "Accuracy with train data : 0.29\n"
     ]
    }
   ],
   "source": [
    "score = lr_model.score(X_train,y_train)\n",
    "print(f\"Accuracy with train data : {score:0.2f}\")"
   ]
  },
  {
   "cell_type": "code",
   "execution_count": 52,
   "metadata": {},
   "outputs": [],
   "source": [
    "# Evaluate Model using test data \n",
    "y_pred =lr_model.predict(X_test)"
   ]
  },
  {
   "cell_type": "code",
   "execution_count": 53,
   "metadata": {},
   "outputs": [
    {
     "name": "stdout",
     "output_type": "stream",
     "text": [
      "Accuracy with test data :  0.28\n"
     ]
    }
   ],
   "source": [
    "# Find out accuracy with test data \n",
    "r2score = r2_score(y_test,y_pred)\n",
    "print(f\"Accuracy with test data :  {r2score:0.2f}\")"
   ]
  },
  {
   "cell_type": "code",
   "execution_count": 54,
   "metadata": {},
   "outputs": [],
   "source": [
    "# Pickle model\n",
    "pd.to_pickle(lr_model,'30june_lr_model.pickle')"
   ]
  },
  {
   "cell_type": "code",
   "execution_count": 55,
   "metadata": {},
   "outputs": [],
   "source": [
    "import pickle"
   ]
  },
  {
   "cell_type": "code",
   "execution_count": 56,
   "metadata": {},
   "outputs": [],
   "source": [
    "with open('30june_lr_model.pickle', 'wb') as file:\n",
    "    pickle.dump(lr_model, file)"
   ]
  },
  {
   "cell_type": "code",
   "execution_count": 57,
   "metadata": {},
   "outputs": [],
   "source": [
    "with open('30june_lr_model.pickle', 'rb') as file:\n",
    "    ml_reg=pickle.load(file)"
   ]
  },
  {
   "cell_type": "code",
   "execution_count": 60,
   "metadata": {},
   "outputs": [
    {
     "name": "stdout",
     "output_type": "stream",
     "text": [
      "Enter Year    : 2018\n",
      "Enter Month  : 1\n",
      "Enter Day : 12\n",
      "Enter Hour    : 11\n",
      "Enter Minute  : 43\n",
      "Enter ProTypeHot : 0\n",
      "Enter ProTypeOthPro    : 1\n",
      "Enter IteTypeInter  : 0\n",
      "Enter ProTypeAirCanc : 0\n"
     ]
    }
   ],
   "source": [
    "# Take input from user\n",
    "year = int(input(\"Enter Year    : \"))\n",
    "month = int(input(\"Enter Month  : \"))\n",
    "day = float(input(\"Enter Day : \"))\n",
    "hour = int(input(\"Enter Hour    : \"))\n",
    "minute = int(input(\"Enter Minute  : \"))\n",
    "protypehot = float(input(\"Enter ProTypeHot : \"))\n",
    "protypeothpro = int(input(\"Enter ProTypeOthPro    : \"))\n",
    "itetypeinter= int(input(\"Enter IteTypeInter  : \"))\n",
    "protypeaircanc=int(input(\"Enter ProTypeAirCanc : \"))"
   ]
  },
  {
   "cell_type": "code",
   "execution_count": 61,
   "metadata": {},
   "outputs": [
    {
     "data": {
      "text/plain": [
       "array([120.34249542])"
      ]
     },
     "execution_count": 61,
     "metadata": {},
     "output_type": "execute_result"
    }
   ],
   "source": [
    " ml_reg.predict([[year,month,day,hour,minute,protypehot,protypeothpro,itetypeinter,protypeaircanc]])"
   ]
  },
  {
   "cell_type": "markdown",
   "metadata": {},
   "source": [
    "2018\t1\t12\t11\t43\t0\t1\t0"
   ]
  },
  {
   "cell_type": "code",
   "execution_count": null,
   "metadata": {},
   "outputs": [],
   "source": [
    "# Take input from user\n",
    "year = int(input(\"Enter Year    : \"))\n",
    "month = int(input(\"Enter Month  : \"))\n",
    "day = float(input(\"Enter Day : \"))\n",
    "hour = int(input(\"Enter Hour    : \"))\n",
    "minute = int(input(\"Enter Minute  : \"))\n",
    "protypehot = float(input(\"Enter ProTypeHot : \"))\n",
    "protypeothpro = int(input(\"Enter ProTypeOthPro    : \"))\n",
    "itetypeinter= int(input(\"Enter IteTypeInter  : \"))"
   ]
  },
  {
   "cell_type": "code",
   "execution_count": null,
   "metadata": {},
   "outputs": [],
   "source": [
    "ml_reg.predict([[year,month,day,hour,minute,protypehot,protypeothpro,itetypeinter]])"
   ]
  },
  {
   "cell_type": "code",
   "execution_count": null,
   "metadata": {},
   "outputs": [],
   "source": [
    "import json,requests"
   ]
  },
  {
   "cell_type": "code",
   "execution_count": null,
   "metadata": {
    "scrolled": true
   },
   "outputs": [],
   "source": [
    "data_model[1:4]"
   ]
  },
  {
   "cell_type": "markdown",
   "metadata": {},
   "source": [
    "url='http://localhost:9000/api'\n",
    "data=json.dumps({'Year':2019,'Month':1,'Day':12,'Hour':11,'Minute':43,'ProTypeHot':0,'ProTypeOthPro':0,'IteTypeInter':1})\n",
    "r=requests.post(url,data)\n",
    "print (r.json())"
   ]
  },
  {
   "cell_type": "code",
   "execution_count": null,
   "metadata": {},
   "outputs": [],
   "source": []
  }
 ],
 "metadata": {
  "kernelspec": {
   "display_name": "Python 3",
   "language": "python",
   "name": "python3"
  },
  "language_info": {
   "codemirror_mode": {
    "name": "ipython",
    "version": 3
   },
   "file_extension": ".py",
   "mimetype": "text/x-python",
   "name": "python",
   "nbconvert_exporter": "python",
   "pygments_lexer": "ipython3",
   "version": "3.6.10"
  }
 },
 "nbformat": 4,
 "nbformat_minor": 4
}
